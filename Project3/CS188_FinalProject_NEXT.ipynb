{
 "cells": [
  {
   "cell_type": "markdown",
   "metadata": {},
   "source": [
    "# NEXT Project"
   ]
  },
  {
   "cell_type": "code",
   "execution_count": 1,
   "metadata": {},
   "outputs": [],
   "source": [
    "import numpy as np \n",
    "import pandas as pd \n",
    "import matplotlib.pyplot as plt\n",
    "import os\n",
    "import seaborn as sns\n",
    "from sklearn.model_selection import train_test_split, cross_val_score, GridSearchCV\n",
    "from sklearn import metrics\n",
    "from sklearn.svm import SVC  \n",
    "from sklearn.linear_model import LogisticRegression\n",
    "from sklearn.neighbors import KNeighborsClassifier\n",
    "from sklearn.tree import DecisionTreeClassifier\n",
    "from sklearn.cluster import KMeans\n",
    "from sklearn.metrics import confusion_matrix\n",
    "import sklearn.metrics.cluster as smc\n",
    "from sklearn.model_selection import KFold\n",
    "from matplotlib import pyplot\n",
    "import itertools"
   ]
  },
  {
   "cell_type": "code",
   "execution_count": 2,
   "metadata": {},
   "outputs": [],
   "source": [
    "ds = pd.read_csv('./training_dataset_V3.csv')\n",
    "ds_score = pd.read_csv('./score_V3.csv')"
   ]
  },
  {
   "cell_type": "markdown",
   "metadata": {},
   "source": [
    "## 1-2.Generate Labels and Drop Labels:"
   ]
  },
  {
   "cell_type": "code",
   "execution_count": 3,
   "metadata": {},
   "outputs": [
    {
     "data": {
      "text/plain": [
       "20210214.0"
      ]
     },
     "execution_count": 3,
     "metadata": {},
     "output_type": "execute_result"
    }
   ],
   "source": [
    "ds['most_recent_load_date'] = ds.most_recent_load_date.str.replace('-','')\n",
    "ds['most_recent_load_date'] =  pd.to_numeric(ds['most_recent_load_date'], downcast='integer')\n",
    "ds['most_recent_load_date'].quantile(0.75)"
   ]
  },
  {
   "cell_type": "code",
   "execution_count": 4,
   "metadata": {},
   "outputs": [
    {
     "data": {
      "text/plain": [
       "325.0"
      ]
     },
     "execution_count": 4,
     "metadata": {},
     "output_type": "execute_result"
    }
   ],
   "source": [
    "ds['total_loads'].quantile(0.75)"
   ]
  },
  {
   "cell_type": "code",
   "execution_count": 5,
   "metadata": {},
   "outputs": [],
   "source": [
    "ds = ds.drop(columns =[\"Unnamed: 0\",\"dt\",\"id_carrier_number\",\"ts_signup\",\"ts_first_approved\", \n",
    "                             \"days_signup_to_approval\",\"driver_with_twic\", \"dim_preferred_lanes\",\n",
    "                             \"load_day\", \"first_load_date\"])\n",
    "ds = ds.dropna()\n",
    "ds['high_performance'] = (ds['total_loads'] >= 325) & (ds['most_recent_load_date'] >= 20210214)\n",
    "ds['high_performance'] = ds['high_performance']*1\n",
    "ds = ds.drop(['most_recent_load_date', 'total_loads'], axis=1)\n",
    "high_performance_arr = ds['high_performance']\n",
    "ds = ds.drop(['high_performance'], axis=1)\n",
    "ds_score = ds_score.drop(columns =[\"Unnamed: 0\",\"dt\",\"id_carrier_number\",\"ts_signup\",\"ts_first_approved\", \n",
    "                             \"days_signup_to_approval\",\"driver_with_twic\", \"dim_preferred_lanes\",\n",
    "                             \"load_day\", \"first_load_date\"])"
   ]
  },
  {
   "cell_type": "code",
   "execution_count": 6,
   "metadata": {},
   "outputs": [],
   "source": [
    "frames = [ds, ds_score]\n",
    "result = pd.concat(frames)"
   ]
  },
  {
   "cell_type": "code",
   "execution_count": 7,
   "metadata": {
    "scrolled": false
   },
   "outputs": [
    {
     "data": {
      "text/html": [
       "<div>\n",
       "<style scoped>\n",
       "    .dataframe tbody tr th:only-of-type {\n",
       "        vertical-align: middle;\n",
       "    }\n",
       "\n",
       "    .dataframe tbody tr th {\n",
       "        vertical-align: top;\n",
       "    }\n",
       "\n",
       "    .dataframe thead th {\n",
       "        text-align: right;\n",
       "    }\n",
       "</style>\n",
       "<table border=\"1\" class=\"dataframe\">\n",
       "  <thead>\n",
       "    <tr style=\"text-align: right;\">\n",
       "      <th></th>\n",
       "      <th>weekday</th>\n",
       "      <th>year</th>\n",
       "      <th>id_driver</th>\n",
       "      <th>dim_carrier_type</th>\n",
       "      <th>dim_carrier_company_name</th>\n",
       "      <th>home_base_city</th>\n",
       "      <th>home_base_state</th>\n",
       "      <th>carrier_trucks</th>\n",
       "      <th>num_trucks</th>\n",
       "      <th>interested_in_drayage</th>\n",
       "      <th>port_qualified</th>\n",
       "      <th>signup_source</th>\n",
       "      <th>loads</th>\n",
       "      <th>marketplace_loads_otr</th>\n",
       "      <th>marketplace_loads_atlas</th>\n",
       "      <th>marketplace_loads</th>\n",
       "      <th>brokerage_loads_otr</th>\n",
       "      <th>brokerage_loads_atlas</th>\n",
       "      <th>brokerage_loads</th>\n",
       "    </tr>\n",
       "  </thead>\n",
       "  <tbody>\n",
       "    <tr>\n",
       "      <th>0</th>\n",
       "      <td>Monday</td>\n",
       "      <td>2019</td>\n",
       "      <td>21350</td>\n",
       "      <td>Owner Operator</td>\n",
       "      <td>CA&amp;F TRUCKING</td>\n",
       "      <td>Maywood</td>\n",
       "      <td>CA</td>\n",
       "      <td>[\"poweronly\"]</td>\n",
       "      <td>1.0</td>\n",
       "      <td>yes</td>\n",
       "      <td>yes</td>\n",
       "      <td>Other</td>\n",
       "      <td>2</td>\n",
       "      <td>0</td>\n",
       "      <td>438</td>\n",
       "      <td>438</td>\n",
       "      <td>0</td>\n",
       "      <td>45</td>\n",
       "      <td>45</td>\n",
       "    </tr>\n",
       "    <tr>\n",
       "      <th>1</th>\n",
       "      <td>Friday</td>\n",
       "      <td>2021</td>\n",
       "      <td>36437</td>\n",
       "      <td>Fleet</td>\n",
       "      <td>New opportunities inc</td>\n",
       "      <td>Los Angeles</td>\n",
       "      <td>CA</td>\n",
       "      <td>[\"poweronly\", \"boxtruck\"]</td>\n",
       "      <td>15.0</td>\n",
       "      <td>yes</td>\n",
       "      <td>yes</td>\n",
       "      <td>Mobile</td>\n",
       "      <td>1</td>\n",
       "      <td>2</td>\n",
       "      <td>72</td>\n",
       "      <td>74</td>\n",
       "      <td>0</td>\n",
       "      <td>1</td>\n",
       "      <td>1</td>\n",
       "    </tr>\n",
       "    <tr>\n",
       "      <th>2</th>\n",
       "      <td>Thursday</td>\n",
       "      <td>2019</td>\n",
       "      <td>19323</td>\n",
       "      <td>Owner Operator</td>\n",
       "      <td>RAS</td>\n",
       "      <td>Compton</td>\n",
       "      <td>CA</td>\n",
       "      <td>[\"poweronly\"]</td>\n",
       "      <td>1.0</td>\n",
       "      <td>yes</td>\n",
       "      <td>yes</td>\n",
       "      <td>Other</td>\n",
       "      <td>1</td>\n",
       "      <td>0</td>\n",
       "      <td>180</td>\n",
       "      <td>180</td>\n",
       "      <td>0</td>\n",
       "      <td>2</td>\n",
       "      <td>2</td>\n",
       "    </tr>\n",
       "    <tr>\n",
       "      <th>3</th>\n",
       "      <td>Wednesday</td>\n",
       "      <td>2021</td>\n",
       "      <td>34809</td>\n",
       "      <td>Fleet</td>\n",
       "      <td>NFS asset Drayage</td>\n",
       "      <td>Lynwood</td>\n",
       "      <td>CA</td>\n",
       "      <td>[\"poweronly\", \"dryvan\"]</td>\n",
       "      <td>195.0</td>\n",
       "      <td>yes</td>\n",
       "      <td>yes</td>\n",
       "      <td>Other</td>\n",
       "      <td>3</td>\n",
       "      <td>0</td>\n",
       "      <td>0</td>\n",
       "      <td>0</td>\n",
       "      <td>0</td>\n",
       "      <td>0</td>\n",
       "      <td>0</td>\n",
       "    </tr>\n",
       "    <tr>\n",
       "      <th>4</th>\n",
       "      <td>Monday</td>\n",
       "      <td>2017</td>\n",
       "      <td>4728</td>\n",
       "      <td>Owner Operator</td>\n",
       "      <td>joes transportation</td>\n",
       "      <td>Norco</td>\n",
       "      <td>CA</td>\n",
       "      <td>[\"dryvan\"]</td>\n",
       "      <td>1.0</td>\n",
       "      <td>not specified</td>\n",
       "      <td>no</td>\n",
       "      <td>Other</td>\n",
       "      <td>2</td>\n",
       "      <td>57</td>\n",
       "      <td>0</td>\n",
       "      <td>57</td>\n",
       "      <td>314</td>\n",
       "      <td>0</td>\n",
       "      <td>314</td>\n",
       "    </tr>\n",
       "    <tr>\n",
       "      <th>...</th>\n",
       "      <td>...</td>\n",
       "      <td>...</td>\n",
       "      <td>...</td>\n",
       "      <td>...</td>\n",
       "      <td>...</td>\n",
       "      <td>...</td>\n",
       "      <td>...</td>\n",
       "      <td>...</td>\n",
       "      <td>...</td>\n",
       "      <td>...</td>\n",
       "      <td>...</td>\n",
       "      <td>...</td>\n",
       "      <td>...</td>\n",
       "      <td>...</td>\n",
       "      <td>...</td>\n",
       "      <td>...</td>\n",
       "      <td>...</td>\n",
       "      <td>...</td>\n",
       "      <td>...</td>\n",
       "    </tr>\n",
       "    <tr>\n",
       "      <th>995</th>\n",
       "      <td>Saturday</td>\n",
       "      <td>2018</td>\n",
       "      <td>597</td>\n",
       "      <td>Fleet</td>\n",
       "      <td>MC Express Trucking LLC</td>\n",
       "      <td>Rosarito</td>\n",
       "      <td>B.C.</td>\n",
       "      <td>[\"dryvan\"]</td>\n",
       "      <td>101.0</td>\n",
       "      <td>not specified</td>\n",
       "      <td>no</td>\n",
       "      <td>Other</td>\n",
       "      <td>1</td>\n",
       "      <td>0</td>\n",
       "      <td>0</td>\n",
       "      <td>0</td>\n",
       "      <td>62</td>\n",
       "      <td>0</td>\n",
       "      <td>62</td>\n",
       "    </tr>\n",
       "    <tr>\n",
       "      <th>996</th>\n",
       "      <td>Thursday</td>\n",
       "      <td>2020</td>\n",
       "      <td>32167</td>\n",
       "      <td>Owner Operator</td>\n",
       "      <td>Lagosian Transport</td>\n",
       "      <td>Compton</td>\n",
       "      <td>CA</td>\n",
       "      <td>[\"poweronly\"]</td>\n",
       "      <td>1.0</td>\n",
       "      <td>not specified</td>\n",
       "      <td>no</td>\n",
       "      <td>Mobile</td>\n",
       "      <td>2</td>\n",
       "      <td>38</td>\n",
       "      <td>267</td>\n",
       "      <td>305</td>\n",
       "      <td>2</td>\n",
       "      <td>19</td>\n",
       "      <td>21</td>\n",
       "    </tr>\n",
       "    <tr>\n",
       "      <th>997</th>\n",
       "      <td>Wednesday</td>\n",
       "      <td>2018</td>\n",
       "      <td>7054</td>\n",
       "      <td>Owner Operator</td>\n",
       "      <td>pioneer transport</td>\n",
       "      <td>San Bernardino</td>\n",
       "      <td>CA</td>\n",
       "      <td>[\"dryvan\"]</td>\n",
       "      <td>1.0</td>\n",
       "      <td>not specified</td>\n",
       "      <td>no</td>\n",
       "      <td>Other</td>\n",
       "      <td>1</td>\n",
       "      <td>19</td>\n",
       "      <td>5</td>\n",
       "      <td>24</td>\n",
       "      <td>11</td>\n",
       "      <td>0</td>\n",
       "      <td>11</td>\n",
       "    </tr>\n",
       "    <tr>\n",
       "      <th>998</th>\n",
       "      <td>Tuesday</td>\n",
       "      <td>2017</td>\n",
       "      <td>638</td>\n",
       "      <td>Fleet</td>\n",
       "      <td>MC Express Trucking LLC</td>\n",
       "      <td>Rosarito</td>\n",
       "      <td>B.C.</td>\n",
       "      <td>[\"dryvan\"]</td>\n",
       "      <td>101.0</td>\n",
       "      <td>not specified</td>\n",
       "      <td>no</td>\n",
       "      <td>Other</td>\n",
       "      <td>1</td>\n",
       "      <td>0</td>\n",
       "      <td>0</td>\n",
       "      <td>0</td>\n",
       "      <td>119</td>\n",
       "      <td>0</td>\n",
       "      <td>119</td>\n",
       "    </tr>\n",
       "    <tr>\n",
       "      <th>999</th>\n",
       "      <td>Saturday</td>\n",
       "      <td>2020</td>\n",
       "      <td>33543</td>\n",
       "      <td>Fleet</td>\n",
       "      <td>CR TRANSPORTATION</td>\n",
       "      <td>San Bernardino</td>\n",
       "      <td>CA</td>\n",
       "      <td>[\"dryvan\"]</td>\n",
       "      <td>10.0</td>\n",
       "      <td>yes</td>\n",
       "      <td>no</td>\n",
       "      <td>Other</td>\n",
       "      <td>1</td>\n",
       "      <td>4</td>\n",
       "      <td>6</td>\n",
       "      <td>10</td>\n",
       "      <td>73</td>\n",
       "      <td>0</td>\n",
       "      <td>73</td>\n",
       "    </tr>\n",
       "  </tbody>\n",
       "</table>\n",
       "<p>84251 rows × 19 columns</p>\n",
       "</div>"
      ],
      "text/plain": [
       "       weekday  year  id_driver dim_carrier_type dim_carrier_company_name  \\\n",
       "0       Monday  2019      21350   Owner Operator            CA&F TRUCKING   \n",
       "1       Friday  2021      36437            Fleet   New opportunities inc    \n",
       "2     Thursday  2019      19323   Owner Operator                      RAS   \n",
       "3    Wednesday  2021      34809            Fleet        NFS asset Drayage   \n",
       "4       Monday  2017       4728   Owner Operator      joes transportation   \n",
       "..         ...   ...        ...              ...                      ...   \n",
       "995   Saturday  2018        597            Fleet  MC Express Trucking LLC   \n",
       "996   Thursday  2020      32167   Owner Operator      Lagosian Transport    \n",
       "997  Wednesday  2018       7054   Owner Operator        pioneer transport   \n",
       "998    Tuesday  2017        638            Fleet  MC Express Trucking LLC   \n",
       "999   Saturday  2020      33543            Fleet        CR TRANSPORTATION   \n",
       "\n",
       "     home_base_city home_base_state             carrier_trucks  num_trucks  \\\n",
       "0           Maywood              CA              [\"poweronly\"]         1.0   \n",
       "1       Los Angeles              CA  [\"poweronly\", \"boxtruck\"]        15.0   \n",
       "2           Compton              CA              [\"poweronly\"]         1.0   \n",
       "3           Lynwood              CA    [\"poweronly\", \"dryvan\"]       195.0   \n",
       "4             Norco              CA                 [\"dryvan\"]         1.0   \n",
       "..              ...             ...                        ...         ...   \n",
       "995        Rosarito            B.C.                 [\"dryvan\"]       101.0   \n",
       "996         Compton              CA              [\"poweronly\"]         1.0   \n",
       "997  San Bernardino              CA                 [\"dryvan\"]         1.0   \n",
       "998        Rosarito            B.C.                 [\"dryvan\"]       101.0   \n",
       "999  San Bernardino              CA                 [\"dryvan\"]        10.0   \n",
       "\n",
       "    interested_in_drayage port_qualified signup_source  loads  \\\n",
       "0                     yes            yes         Other      2   \n",
       "1                     yes            yes        Mobile      1   \n",
       "2                     yes            yes         Other      1   \n",
       "3                     yes            yes         Other      3   \n",
       "4           not specified             no         Other      2   \n",
       "..                    ...            ...           ...    ...   \n",
       "995         not specified             no         Other      1   \n",
       "996         not specified             no        Mobile      2   \n",
       "997         not specified             no         Other      1   \n",
       "998         not specified             no         Other      1   \n",
       "999                   yes             no         Other      1   \n",
       "\n",
       "     marketplace_loads_otr  marketplace_loads_atlas  marketplace_loads  \\\n",
       "0                        0                      438                438   \n",
       "1                        2                       72                 74   \n",
       "2                        0                      180                180   \n",
       "3                        0                        0                  0   \n",
       "4                       57                        0                 57   \n",
       "..                     ...                      ...                ...   \n",
       "995                      0                        0                  0   \n",
       "996                     38                      267                305   \n",
       "997                     19                        5                 24   \n",
       "998                      0                        0                  0   \n",
       "999                      4                        6                 10   \n",
       "\n",
       "     brokerage_loads_otr  brokerage_loads_atlas  brokerage_loads  \n",
       "0                      0                     45               45  \n",
       "1                      0                      1                1  \n",
       "2                      0                      2                2  \n",
       "3                      0                      0                0  \n",
       "4                    314                      0              314  \n",
       "..                   ...                    ...              ...  \n",
       "995                   62                      0               62  \n",
       "996                    2                     19               21  \n",
       "997                   11                      0               11  \n",
       "998                  119                      0              119  \n",
       "999                   73                      0               73  \n",
       "\n",
       "[84251 rows x 19 columns]"
      ]
     },
     "execution_count": 7,
     "metadata": {},
     "output_type": "execute_result"
    }
   ],
   "source": [
    "result"
   ]
  },
  {
   "cell_type": "markdown",
   "metadata": {},
   "source": [
    "## 3.Basic Statistics:"
   ]
  },
  {
   "cell_type": "code",
   "execution_count": 8,
   "metadata": {},
   "outputs": [
    {
     "name": "stdout",
     "output_type": "stream",
     "text": [
      "<class 'pandas.core.frame.DataFrame'>\n",
      "Int64Index: 84251 entries, 0 to 999\n",
      "Data columns (total 19 columns):\n",
      " #   Column                    Non-Null Count  Dtype  \n",
      "---  ------                    --------------  -----  \n",
      " 0   weekday                   84251 non-null  object \n",
      " 1   year                      84251 non-null  int64  \n",
      " 2   id_driver                 84251 non-null  int64  \n",
      " 3   dim_carrier_type          84251 non-null  object \n",
      " 4   dim_carrier_company_name  84251 non-null  object \n",
      " 5   home_base_city            84251 non-null  object \n",
      " 6   home_base_state           84251 non-null  object \n",
      " 7   carrier_trucks            84251 non-null  object \n",
      " 8   num_trucks                84251 non-null  float64\n",
      " 9   interested_in_drayage     84251 non-null  object \n",
      " 10  port_qualified            84251 non-null  object \n",
      " 11  signup_source             84251 non-null  object \n",
      " 12  loads                     84251 non-null  int64  \n",
      " 13  marketplace_loads_otr     84251 non-null  int64  \n",
      " 14  marketplace_loads_atlas   84251 non-null  int64  \n",
      " 15  marketplace_loads         84251 non-null  int64  \n",
      " 16  brokerage_loads_otr       84251 non-null  int64  \n",
      " 17  brokerage_loads_atlas     84251 non-null  int64  \n",
      " 18  brokerage_loads           84251 non-null  int64  \n",
      "dtypes: float64(1), int64(9), object(9)\n",
      "memory usage: 12.9+ MB\n"
     ]
    }
   ],
   "source": [
    "result.info()"
   ]
  },
  {
   "cell_type": "code",
   "execution_count": 9,
   "metadata": {},
   "outputs": [
    {
     "data": {
      "text/html": [
       "<div>\n",
       "<style scoped>\n",
       "    .dataframe tbody tr th:only-of-type {\n",
       "        vertical-align: middle;\n",
       "    }\n",
       "\n",
       "    .dataframe tbody tr th {\n",
       "        vertical-align: top;\n",
       "    }\n",
       "\n",
       "    .dataframe thead th {\n",
       "        text-align: right;\n",
       "    }\n",
       "</style>\n",
       "<table border=\"1\" class=\"dataframe\">\n",
       "  <thead>\n",
       "    <tr style=\"text-align: right;\">\n",
       "      <th></th>\n",
       "      <th>year</th>\n",
       "      <th>id_driver</th>\n",
       "      <th>num_trucks</th>\n",
       "      <th>loads</th>\n",
       "      <th>marketplace_loads_otr</th>\n",
       "      <th>marketplace_loads_atlas</th>\n",
       "      <th>marketplace_loads</th>\n",
       "      <th>brokerage_loads_otr</th>\n",
       "      <th>brokerage_loads_atlas</th>\n",
       "      <th>brokerage_loads</th>\n",
       "    </tr>\n",
       "  </thead>\n",
       "  <tbody>\n",
       "    <tr>\n",
       "      <th>count</th>\n",
       "      <td>83251.000000</td>\n",
       "      <td>83251.000000</td>\n",
       "      <td>83251.000000</td>\n",
       "      <td>83251.000000</td>\n",
       "      <td>83251.000000</td>\n",
       "      <td>83251.000000</td>\n",
       "      <td>83251.000000</td>\n",
       "      <td>83251.000000</td>\n",
       "      <td>83251.000000</td>\n",
       "      <td>83251.000000</td>\n",
       "    </tr>\n",
       "    <tr>\n",
       "      <th>mean</th>\n",
       "      <td>2018.964889</td>\n",
       "      <td>18240.671403</td>\n",
       "      <td>22.606143</td>\n",
       "      <td>2.077681</td>\n",
       "      <td>29.533351</td>\n",
       "      <td>71.719811</td>\n",
       "      <td>101.253162</td>\n",
       "      <td>148.523225</td>\n",
       "      <td>13.098617</td>\n",
       "      <td>161.621842</td>\n",
       "    </tr>\n",
       "    <tr>\n",
       "      <th>std</th>\n",
       "      <td>1.355768</td>\n",
       "      <td>11660.917008</td>\n",
       "      <td>48.852020</td>\n",
       "      <td>2.674310</td>\n",
       "      <td>88.249218</td>\n",
       "      <td>194.697319</td>\n",
       "      <td>214.666364</td>\n",
       "      <td>416.341254</td>\n",
       "      <td>42.278960</td>\n",
       "      <td>414.144180</td>\n",
       "    </tr>\n",
       "    <tr>\n",
       "      <th>min</th>\n",
       "      <td>2015.000000</td>\n",
       "      <td>20.000000</td>\n",
       "      <td>1.000000</td>\n",
       "      <td>1.000000</td>\n",
       "      <td>0.000000</td>\n",
       "      <td>0.000000</td>\n",
       "      <td>0.000000</td>\n",
       "      <td>0.000000</td>\n",
       "      <td>0.000000</td>\n",
       "      <td>0.000000</td>\n",
       "    </tr>\n",
       "    <tr>\n",
       "      <th>25%</th>\n",
       "      <td>2018.000000</td>\n",
       "      <td>7981.000000</td>\n",
       "      <td>1.000000</td>\n",
       "      <td>1.000000</td>\n",
       "      <td>0.000000</td>\n",
       "      <td>0.000000</td>\n",
       "      <td>0.000000</td>\n",
       "      <td>0.000000</td>\n",
       "      <td>0.000000</td>\n",
       "      <td>5.000000</td>\n",
       "    </tr>\n",
       "    <tr>\n",
       "      <th>50%</th>\n",
       "      <td>2019.000000</td>\n",
       "      <td>16299.000000</td>\n",
       "      <td>4.000000</td>\n",
       "      <td>1.000000</td>\n",
       "      <td>2.000000</td>\n",
       "      <td>0.000000</td>\n",
       "      <td>13.000000</td>\n",
       "      <td>15.000000</td>\n",
       "      <td>0.000000</td>\n",
       "      <td>37.000000</td>\n",
       "    </tr>\n",
       "    <tr>\n",
       "      <th>75%</th>\n",
       "      <td>2020.000000</td>\n",
       "      <td>28986.000000</td>\n",
       "      <td>14.000000</td>\n",
       "      <td>2.000000</td>\n",
       "      <td>23.000000</td>\n",
       "      <td>18.000000</td>\n",
       "      <td>94.000000</td>\n",
       "      <td>112.000000</td>\n",
       "      <td>1.000000</td>\n",
       "      <td>135.000000</td>\n",
       "    </tr>\n",
       "    <tr>\n",
       "      <th>max</th>\n",
       "      <td>2021.000000</td>\n",
       "      <td>38125.000000</td>\n",
       "      <td>195.000000</td>\n",
       "      <td>129.000000</td>\n",
       "      <td>902.000000</td>\n",
       "      <td>1324.000000</td>\n",
       "      <td>1348.000000</td>\n",
       "      <td>4266.000000</td>\n",
       "      <td>371.000000</td>\n",
       "      <td>4266.000000</td>\n",
       "    </tr>\n",
       "  </tbody>\n",
       "</table>\n",
       "</div>"
      ],
      "text/plain": [
       "               year     id_driver    num_trucks         loads  \\\n",
       "count  83251.000000  83251.000000  83251.000000  83251.000000   \n",
       "mean    2018.964889  18240.671403     22.606143      2.077681   \n",
       "std        1.355768  11660.917008     48.852020      2.674310   \n",
       "min     2015.000000     20.000000      1.000000      1.000000   \n",
       "25%     2018.000000   7981.000000      1.000000      1.000000   \n",
       "50%     2019.000000  16299.000000      4.000000      1.000000   \n",
       "75%     2020.000000  28986.000000     14.000000      2.000000   \n",
       "max     2021.000000  38125.000000    195.000000    129.000000   \n",
       "\n",
       "       marketplace_loads_otr  marketplace_loads_atlas  marketplace_loads  \\\n",
       "count           83251.000000             83251.000000       83251.000000   \n",
       "mean               29.533351                71.719811         101.253162   \n",
       "std                88.249218               194.697319         214.666364   \n",
       "min                 0.000000                 0.000000           0.000000   \n",
       "25%                 0.000000                 0.000000           0.000000   \n",
       "50%                 2.000000                 0.000000          13.000000   \n",
       "75%                23.000000                18.000000          94.000000   \n",
       "max               902.000000              1324.000000        1348.000000   \n",
       "\n",
       "       brokerage_loads_otr  brokerage_loads_atlas  brokerage_loads  \n",
       "count         83251.000000           83251.000000     83251.000000  \n",
       "mean            148.523225              13.098617       161.621842  \n",
       "std             416.341254              42.278960       414.144180  \n",
       "min               0.000000               0.000000         0.000000  \n",
       "25%               0.000000               0.000000         5.000000  \n",
       "50%              15.000000               0.000000        37.000000  \n",
       "75%             112.000000               1.000000       135.000000  \n",
       "max            4266.000000             371.000000      4266.000000  "
      ]
     },
     "execution_count": 9,
     "metadata": {},
     "output_type": "execute_result"
    }
   ],
   "source": [
    "ds.describe()"
   ]
  },
  {
   "cell_type": "code",
   "execution_count": 10,
   "metadata": {},
   "outputs": [
    {
     "data": {
      "image/png": "[encoded data removed]",
      "text/plain": [
       "<Figure size 432x288 with 2 Axes>"
      ]
     },
     "metadata": {
      "needs_background": "light"
     },
     "output_type": "display_data"
    }
   ],
   "source": [
    "import seaborn as sns\n",
    "ax = sns.heatmap(ds.corr())"
   ]
  },
  {
   "cell_type": "markdown",
   "metadata": {},
   "source": [
    "## 4.Pipeline Implementation:"
   ]
  },
  {
   "cell_type": "code",
   "execution_count": 11,
   "metadata": {},
   "outputs": [],
   "source": [
    "from sklearn.compose import ColumnTransformer\n",
    "from sklearn.pipeline import Pipeline\n",
    "from sklearn.preprocessing import StandardScaler\n",
    "from sklearn.preprocessing import OneHotEncoder\n",
    "from sklearn.base import BaseEstimator, TransformerMixin\n",
    "\n",
    "\n",
    "\n",
    "ds_nolab = result.drop(columns= [\"weekday\",\"year\",\"dim_carrier_type\",\"dim_carrier_company_name\"\n",
    "                             ,\"home_base_city\", \"home_base_state\",\n",
    "                             \"carrier_trucks\", \"interested_in_drayage\",\n",
    "                             \"port_qualified\", \"signup_source\"], axis=1)\n",
    "\n",
    "\n",
    "class AugmentFeatures(BaseEstimator, TransformerMixin):\n",
    "    def __init__(self, add_loads_per_num_trucks = True):\n",
    "        self.add_loads_per_num_trucks = add_loads_per_num_trucks\n",
    "    def fit(self, X, y=None):\n",
    "        return self\n",
    "    def transform(self, X):\n",
    "        if self.add_loads_per_num_trucks:\n",
    "            loads_per_num_trucks = X[:, 2] / X[:, 1]\n",
    "            return np.c_[X, loads_per_num_trucks]\n",
    "        else:\n",
    "            return np.c_[X]\n",
    "\n",
    "\n",
    "num_pipeline = Pipeline([('std_scaler', StandardScaler()),\n",
    "                        ('attribs_adder', AugmentFeatures())])\n",
    "\n",
    "numerical_features = list(ds_nolab)\n",
    "categorical_features = [\"dim_carrier_type\",\"dim_carrier_company_name\"\n",
    "                        ,\"home_base_city\", \"home_base_state\"\n",
    "                        ,\"carrier_trucks\", \"interested_in_drayage\"\n",
    "                        ,\"port_qualified\", \"signup_source\"]\n",
    "\n",
    "full_pipeline = ColumnTransformer([\n",
    "        (\"num\", num_pipeline, numerical_features),\n",
    "        (\"cat\", OneHotEncoder(), categorical_features),\n",
    "    ])\n",
    "\n",
    "result_prepared = full_pipeline.fit_transform(result)"
   ]
  },
  {
   "cell_type": "code",
   "execution_count": 12,
   "metadata": {},
   "outputs": [],
   "source": [
    "import scipy.sparse\n",
    "new_test = result_prepared[83251:,:]\n",
    "new_train = result_prepared[:83251,:]"
   ]
  },
  {
   "cell_type": "code",
   "execution_count": 13,
   "metadata": {},
   "outputs": [],
   "source": [
    "X_train, X_test, y_train, y_test = train_test_split(new_train, high_performance_arr, test_size=0.2, random_state=42)"
   ]
  },
  {
   "cell_type": "markdown",
   "metadata": {},
   "source": [
    "## 5.Logistic Regression:"
   ]
  },
  {
   "cell_type": "code",
   "execution_count": 14,
   "metadata": {},
   "outputs": [],
   "source": [
    "from sklearn.linear_model import LogisticRegression\n",
    "reg = LogisticRegression(max_iter=500)\n",
    "reg.fit(X_train, y_train)\n",
    "y_prid = reg.predict(X_test)"
   ]
  },
  {
   "cell_type": "code",
   "execution_count": 15,
   "metadata": {},
   "outputs": [
    {
     "data": {
      "text/plain": [
       "0.9365311577088857"
      ]
     },
     "execution_count": 15,
     "metadata": {},
     "output_type": "execute_result"
    }
   ],
   "source": [
    "from sklearn.metrics import r2_score\n",
    "r2_score(y_test, y_prid)"
   ]
  },
  {
   "cell_type": "markdown",
   "metadata": {},
   "source": [
    "## 6.PCA (Principle Component Analysis):"
   ]
  },
  {
   "cell_type": "code",
   "execution_count": 16,
   "metadata": {},
   "outputs": [],
   "source": [
    "from sklearn.decomposition import PCA\n",
    "from sklearn.decomposition import TruncatedSVD\n",
    "'''\n",
    "#PCA Didn't Work With Sparse Matrix, We Can Use TruncatedSVD\n",
    "pca = PCA(n_components=2)\n",
    "pca.fit(X_train)\n",
    "X_train_transformed = pca.transform(X_train)\n",
    "X_test_transformed = pca.transform(X_test)\n",
    "'''\n",
    "svd = TruncatedSVD(n_components=10).fit(X_train)\n",
    "X_train_PCA = svd.transform(X_train)\n",
    "X_test_PCA = svd.transform(X_test)"
   ]
  },
  {
   "cell_type": "markdown",
   "metadata": {},
   "source": [
    "## 7. Ensemble Methods:"
   ]
  },
  {
   "cell_type": "code",
   "execution_count": 19,
   "metadata": {},
   "outputs": [
    {
     "name": "stdout",
     "output_type": "stream",
     "text": [
      "Bagging Accuracy: 0.9987988709386824\n",
      "Bagging F1 Score: 0.9951573849878935\n",
      "--------------\n",
      "Ada Accuracy: 0.9990390967509459\n",
      "Ada F1 Score: 0.9961259079903148\n"
     ]
    }
   ],
   "source": [
    "from sklearn.ensemble import BaggingClassifier\n",
    "from sklearn.ensemble import AdaBoostClassifier\n",
    "\n",
    "BagCl = BaggingClassifier(base_estimator = DecisionTreeClassifier(max_depth = 10), n_estimators=10)\n",
    "BagCl.fit(X_train_PCA, y_train)\n",
    "BagCl_Pred = BagCl.predict(X_test_PCA)\n",
    "\n",
    "print('Bagging Accuracy:', metrics.accuracy_score(y_test, BagCl_Pred))\n",
    "print('Bagging F1 Score:', metrics.f1_score(y_test, BagCl_Pred))\n",
    "print(\"--------------\")\n",
    "\n",
    "AdaCl = AdaBoostClassifier(base_estimator = DecisionTreeClassifier(max_depth = 10), n_estimators=10, learning_rate = 0.01)\n",
    "AdaCl.fit(X_train_PCA, y_train)\n",
    "AdaCl_Pred = AdaCl.predict(X_test_PCA)\n",
    "\n",
    "print('Ada Accuracy:', metrics.accuracy_score(y_test, AdaCl_Pred))\n",
    "print('Ada F1 Score:', metrics.f1_score(y_test, AdaCl_Pred))"
   ]
  },
  {
   "cell_type": "markdown",
   "metadata": {},
   "source": [
    "## 8. Neural Net Classifier:"
   ]
  },
  {
   "cell_type": "code",
   "execution_count": 20,
   "metadata": {},
   "outputs": [
    {
     "name": "stdout",
     "output_type": "stream",
     "text": [
      "NN Accuracy: 0.999459491922407\n",
      "NN F1 Score: 0.997822405032664\n"
     ]
    }
   ],
   "source": [
    "from sklearn.neural_network import MLPClassifier\n",
    "NnCl = MLPClassifier(random_state=1, max_iter=200, hidden_layer_sizes=(30,30)).fit(X_train_PCA, y_train)\n",
    "NnCl_Pred = NnCl.predict(X_test_PCA)\n",
    "\n",
    "print('NN Accuracy:', metrics.accuracy_score(y_test, NnCl_Pred))\n",
    "print('NN F1 Score:', metrics.f1_score(y_test, NnCl_Pred))"
   ]
  },
  {
   "cell_type": "markdown",
   "metadata": {},
   "source": [
    "## 9. K-Fold Cross-validation:"
   ]
  },
  {
   "cell_type": "code",
   "execution_count": 281,
   "metadata": {},
   "outputs": [
    {
     "name": "stdout",
     "output_type": "stream",
     "text": [
      "Bag_Kfolds_Accuracy: 0.9996997069132549\n",
      "NN_Kfolds_ Accuracy: 0.9997357386211577\n"
     ]
    }
   ],
   "source": [
    "from sklearn.model_selection import KFold\n",
    "from numpy import mean\n",
    "\n",
    "Data_PCA = svd.transform(new_train)\n",
    "\n",
    "BagKf = KFold(n_splits=10)\n",
    "Kfold_BagCl = BaggingClassifier(base_estimator = DecisionTreeClassifier(max_depth = 10), n_estimators=10)\n",
    "NnKf = KFold(n_splits=10)\n",
    "Kfold_NnCl = MLPClassifier(random_state=1, max_iter=200, hidden_layer_sizes=(30,30))\n",
    "\n",
    "score_BagCl = cross_val_score(Kfold_BagCl, Data_PCA, high_performance_arr, scoring='accuracy', cv=BagKf)\n",
    "score_NnCl  = cross_val_score(Kfold_NnCl, Data_PCA, high_performance_arr, scoring='accuracy', cv=NnKf)\n",
    "print('Bag_Kfolds_Accuracy:' , (mean(score_BagCl)))\n",
    "print('NN_Kfolds_ Accuracy:' , (mean(score_NnCl)))"
   ]
  },
  {
   "cell_type": "markdown",
   "metadata": {},
   "source": [
    "## 10.Custom Models:"
   ]
  },
  {
   "cell_type": "markdown",
   "metadata": {},
   "source": [
    "#### Polynomial Regression:"
   ]
  },
  {
   "cell_type": "code",
   "execution_count": 24,
   "metadata": {},
   "outputs": [
    {
     "name": "stdout",
     "output_type": "stream",
     "text": [
      "\n"
     ]
    }
   ],
   "source": [
    "from sklearn.preprocessing import PolynomialFeatures\n",
    "from sklearn import linear_model\n",
    "\n",
    "poly_regr = linear_model.LinearRegression()\n",
    "poly = PolynomialFeatures(degree = 5)\n",
    "train_x_poly = poly.fit_transform(X_train)\n",
    "\n",
    "poly_regr.fit(train_x_poly , y_train)\n",
    "test_x_poly = poly.fit_transform(X_test)\n",
    "\n",
    "poly_y_pred = poly_regr.predict(test_x_poly)"
   ]
  },
  {
   "cell_type": "markdown",
   "metadata": {},
   "source": [
    "#### SVM (Support Vector Machine) with Kernels:"
   ]
  },
  {
   "cell_type": "code",
   "execution_count": 29,
   "metadata": {},
   "outputs": [],
   "source": [
    "svm = SVC(kernel = \"rbf\").fit(X_train_PCA, y_train)\n",
    "SVM_pred = svm.predict(X_test_PCA)"
   ]
  },
  {
   "cell_type": "code",
   "execution_count": 30,
   "metadata": {},
   "outputs": [
    {
     "name": "stdout",
     "output_type": "stream",
     "text": [
      "0.9433667647588734\n"
     ]
    }
   ],
   "source": [
    "print(metrics.accuracy_score(y_test, SVM_pred))"
   ]
  },
  {
   "cell_type": "code",
   "execution_count": 25,
   "metadata": {},
   "outputs": [],
   "source": [
    "svm_poly = SVC(kernel = \"poly\").fit(X_train_PCA, y_train)\n",
    "SVM_poly_pred = svm_poly.predict(X_test_PCA)"
   ]
  },
  {
   "cell_type": "code",
   "execution_count": 26,
   "metadata": {},
   "outputs": [
    {
     "name": "stdout",
     "output_type": "stream",
     "text": [
      "0.9130983124136689\n"
     ]
    }
   ],
   "source": [
    "print(metrics.accuracy_score(y_test, SVM_poly_pred))"
   ]
  },
  {
   "cell_type": "code",
   "execution_count": 27,
   "metadata": {},
   "outputs": [],
   "source": [
    "svm_sig = SVC(kernel = \"sigmoid\").fit(X_train_PCA, y_train)\n",
    "SVM_poly_pred = svm_sig.predict(X_test_PCA)"
   ]
  },
  {
   "cell_type": "code",
   "execution_count": 28,
   "metadata": {},
   "outputs": [
    {
     "name": "stdout",
     "output_type": "stream",
     "text": [
      "0.8658939403038857\n"
     ]
    }
   ],
   "source": [
    "print(metrics.accuracy_score(y_test, SVM_poly_pred))"
   ]
  },
  {
   "cell_type": "markdown",
   "metadata": {},
   "source": [
    "#### Regression Based on K-Nearest Neighbors:"
   ]
  },
  {
   "cell_type": "code",
   "execution_count": 39,
   "metadata": {},
   "outputs": [],
   "source": [
    "from sklearn.neighbors import KNeighborsRegressor\n",
    "neigh = KNeighborsRegressor(n_neighbors=3)\n",
    "neigh.fit(X_train_PCA, y_train)\n",
    "knn_pred = neigh.predict(X_test_PCA)"
   ]
  },
  {
   "cell_type": "code",
   "execution_count": 40,
   "metadata": {},
   "outputs": [
    {
     "name": "stdout",
     "output_type": "stream",
     "text": [
      "0.9984385322202871\n"
     ]
    }
   ],
   "source": [
    "print(metrics.accuracy_score(y_test, knn_pred.round()))"
   ]
  },
  {
   "cell_type": "code",
   "execution_count": 44,
   "metadata": {},
   "outputs": [],
   "source": [
    "svd = TruncatedSVD(n_components=10).fit(new_test)\n",
    "X_final_test_PCA = svd.transform(new_test)"
   ]
  },
  {
   "cell_type": "markdown",
   "metadata": {},
   "source": [
    "## Fianl Predctions For score.csv"
   ]
  },
  {
   "cell_type": "code",
   "execution_count": 45,
   "metadata": {},
   "outputs": [],
   "source": [
    "finalSVM = svm.predict(X_final_test_PCA)"
   ]
  },
  {
   "cell_type": "code",
   "execution_count": 48,
   "metadata": {},
   "outputs": [],
   "source": [
    "finalKNN = neigh.predict(X_final_test_PCA)\n",
    "finalKNN = finalKNN.round()"
   ]
  },
  {
   "cell_type": "code",
   "execution_count": 53,
   "metadata": {},
   "outputs": [],
   "source": [
    "finalNn = NnCl.predict(X_final_test_PCA)"
   ]
  },
  {
   "cell_type": "code",
   "execution_count": 55,
   "metadata": {},
   "outputs": [],
   "source": [
    "finalAda = AdaCl.predict(X_final_test_PCA)"
   ]
  },
  {
   "cell_type": "code",
   "execution_count": 62,
   "metadata": {},
   "outputs": [],
   "source": [
    "finalcsv = pd.DataFrame(finalAda)"
   ]
  },
  {
   "cell_type": "code",
   "execution_count": 64,
   "metadata": {},
   "outputs": [],
   "source": [
    "finalcsv.to_csv('out.csv')"
   ]
  }
 ],
 "metadata": {
  "kernelspec": {
   "display_name": "Python 3",
   "language": "python",
   "name": "python3"
  },
  "language_info": {
   "codemirror_mode": {
    "name": "ipython",
    "version": 3
   },
   "file_extension": ".py",
   "mimetype": "text/x-python",
   "name": "python",
   "nbconvert_exporter": "python",
   "pygments_lexer": "ipython3",
   "version": "3.8.3"
  }
 },
 "nbformat": 4,
 "nbformat_minor": 4
}
